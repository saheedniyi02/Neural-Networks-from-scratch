{
 "cells": [
  {
   "cell_type": "code",
   "execution_count": 1,
   "metadata": {
    "jupyter": {
     "source_hidden": true
    }
   },
   "outputs": [],
   "source": [
    "import numpy as np"
   ]
  },
  {
   "cell_type": "code",
   "execution_count": 2,
   "metadata": {},
   "outputs": [],
   "source": [
    "def sigmoid(x):\n",
    "    return 1/(1+np.exp(-x))"
   ]
  },
  {
   "cell_type": "code",
   "execution_count": 3,
   "metadata": {},
   "outputs": [],
   "source": [
    "def logistic_model(train_data,Y,test_data,learning_rate=0.001,num_iterations=4000):\n",
    "    \n",
    "    \n",
    "    \n",
    "        \"\"\"\n",
    "        the train_data and test_data should have the shape (no_of_features,number_of_samples),\n",
    "        the target y should have the shape (1,no of samples)\n",
    "        the record_cost is a conditional which is used to know if the function should have an array that stores the cost for every 101 iterations\n",
    "        the function returns a python dictionary with \n",
    "        (1) Prediction made by the model on the test data with key \"predicted\", it is of shape (1, no of sample in test dataset)\n",
    "        (2)The weights of shape(no_of_features,1) and the intercept of shape(1,1)\n",
    "       \"\"\"\n",
    "        no_of_features=train_data.shape[0]\n",
    "        no_of_samples=train_data.shape[1]\n",
    "        weight=np.random.randn(no_of_features,1)\n",
    "        b=0\n",
    "        cost=[]\n",
    "        for i in range(num_iterations):\n",
    "            yhat=np.dot(weight.T,train_data)\n",
    "            y_sigmoid=sigmoid(yhat)\n",
    "            assert(Y.shape==(1,no_of_samples))\n",
    "            dz=y_sigmoid-Y\n",
    "            dw=np.dot(train_data,dz.T)/train_data.shape[-1]\n",
    "            db=np.sum(dz)/train_data.shape[-1]\n",
    "            weight-=(learning_rate*dw)\n",
    "            b-=(learning_rate*db)\n",
    "            assert(train_data.shape[0]==test_data.shape[0])\n",
    "            predict=sigmoid(np.dot(weight.T,test_data))\n",
    "            predict[predict<0.5]=int(0)\n",
    "            predict[predict>=0.5]=int(1)\n",
    "           \n",
    "        return {'predicted':predict,'weight':weight,'intercept':b}"
   ]
  },
  {
   "cell_type": "code",
   "execution_count": 4,
   "metadata": {},
   "outputs": [],
   "source": [
    "from sklearn import datasets"
   ]
  },
  {
   "cell_type": "code",
   "execution_count": 5,
   "metadata": {},
   "outputs": [],
   "source": [
    "data=datasets.load_breast_cancer()"
   ]
  },
  {
   "cell_type": "code",
   "execution_count": 6,
   "metadata": {},
   "outputs": [
    {
     "data": {
      "text/plain": [
       "dict_keys(['data', 'target', 'frame', 'target_names', 'DESCR', 'feature_names', 'filename'])"
      ]
     },
     "execution_count": 6,
     "metadata": {},
     "output_type": "execute_result"
    }
   ],
   "source": [
    "data.keys()"
   ]
  },
  {
   "cell_type": "code",
   "execution_count": 7,
   "metadata": {},
   "outputs": [],
   "source": [
    "dataset=data.data\n",
    "target=data.target"
   ]
  },
  {
   "cell_type": "code",
   "execution_count": 8,
   "metadata": {},
   "outputs": [],
   "source": [
    "from sklearn.model_selection import train_test_split"
   ]
  },
  {
   "cell_type": "code",
   "execution_count": 9,
   "metadata": {},
   "outputs": [],
   "source": [
    "train,test,y_train,y_test=train_test_split(dataset,target)"
   ]
  },
  {
   "cell_type": "code",
   "execution_count": 10,
   "metadata": {},
   "outputs": [],
   "source": [
    "y_train=y_train.reshape(1,len(y_train))\n",
    "y_test=y_test.reshape(1,len(y_test))"
   ]
  },
  {
   "cell_type": "code",
   "execution_count": 11,
   "metadata": {},
   "outputs": [
    {
     "data": {
      "text/plain": [
       "(1, 143)"
      ]
     },
     "execution_count": 11,
     "metadata": {},
     "output_type": "execute_result"
    }
   ],
   "source": [
    "y_test.shape"
   ]
  },
  {
   "cell_type": "code",
   "execution_count": 21,
   "metadata": {},
   "outputs": [
    {
     "name": "stderr",
     "output_type": "stream",
     "text": [
      "<ipython-input-2-3cbdbdecc9c7>:2: RuntimeWarning: overflow encountered in exp\n",
      "  return 1/(1+np.exp(-x))\n"
     ]
    }
   ],
   "source": [
    "model=logistic_model(train.T,y_train,test.T,learning_rate=0.001,num_iterations=6000)"
   ]
  },
  {
   "cell_type": "code",
   "execution_count": 22,
   "metadata": {},
   "outputs": [
    {
     "data": {
      "text/plain": [
       "{'predicted': array([[0., 1., 1., 1., 0., 0., 0., 0., 1., 1., 0., 1., 1., 1., 0., 1.,\n",
       "         1., 1., 0., 0., 0., 1., 1., 1., 0., 1., 1., 1., 1., 0., 1., 1.,\n",
       "         1., 0., 0., 0., 1., 0., 0., 1., 1., 0., 0., 1., 1., 1., 1., 0.,\n",
       "         0., 0., 1., 1., 1., 0., 0., 1., 1., 1., 1., 1., 1., 1., 1., 0.,\n",
       "         1., 1., 1., 1., 1., 0., 1., 0., 1., 0., 1., 0., 1., 1., 1., 1.,\n",
       "         1., 1., 1., 0., 0., 1., 1., 0., 0., 0., 1., 0., 0., 1., 1., 0.,\n",
       "         1., 0., 1., 1., 0., 1., 1., 1., 1., 1., 1., 1., 0., 1., 1., 1.,\n",
       "         1., 1., 1., 0., 0., 1., 1., 0., 1., 1., 1., 1., 0., 1., 1., 0.,\n",
       "         0., 1., 1., 1., 0., 1., 1., 1., 1., 1., 1., 1., 0., 0., 1.]]),\n",
       " 'weight': array([[ 1.95939307],\n",
       "        [ 1.21683663],\n",
       "        [ 2.3035674 ],\n",
       "        [ 0.30817379],\n",
       "        [ 0.76214062],\n",
       "        [ 1.54286888],\n",
       "        [ 2.04081055],\n",
       "        [ 0.4984764 ],\n",
       "        [-0.47061869],\n",
       "        [ 0.35715292],\n",
       "        [-0.19899318],\n",
       "        [ 0.25422518],\n",
       "        [ 0.70591306],\n",
       "        [-1.43117036],\n",
       "        [-1.37220828],\n",
       "        [-0.26085323],\n",
       "        [-1.3475318 ],\n",
       "        [-1.56296   ],\n",
       "        [ 1.41175801],\n",
       "        [-0.9070481 ],\n",
       "        [ 1.37404493],\n",
       "        [-0.98815085],\n",
       "        [ 1.54258714],\n",
       "        [-0.72063984],\n",
       "        [ 0.65753262],\n",
       "        [-1.42585266],\n",
       "        [ 0.02941844],\n",
       "        [-0.88747787],\n",
       "        [ 1.94244466],\n",
       "        [ 1.3083643 ]]),\n",
       " 'intercept': 0.06582426541028831}"
      ]
     },
     "execution_count": 22,
     "metadata": {},
     "output_type": "execute_result"
    }
   ],
   "source": [
    "model"
   ]
  },
  {
   "cell_type": "code",
   "execution_count": 23,
   "metadata": {},
   "outputs": [],
   "source": [
    "predicted=model[\"predicted\"]"
   ]
  },
  {
   "cell_type": "code",
   "execution_count": 24,
   "metadata": {},
   "outputs": [],
   "source": [
    "weight=model[\"weight\"]\n",
    "intercept=model['intercept']"
   ]
  },
  {
   "cell_type": "code",
   "execution_count": 25,
   "metadata": {},
   "outputs": [],
   "source": [
    "predicted=predicted.astype(\"i\")"
   ]
  },
  {
   "cell_type": "code",
   "execution_count": 26,
   "metadata": {},
   "outputs": [
    {
     "data": {
      "text/plain": [
       "array([0, 1, 1, 1, 0, 0, 0, 0, 1, 1, 0, 1, 1, 1, 0, 1, 1, 1, 0, 0, 0, 1,\n",
       "       1, 1, 0, 1, 1, 1, 1, 0, 1, 1, 1, 0, 0, 0, 1, 0, 0, 1, 1, 0, 0, 1,\n",
       "       1, 1, 1, 0, 0, 0, 1, 1, 1, 0, 0, 1, 1, 1, 1, 1, 1, 1, 1, 0, 1, 1,\n",
       "       1, 1, 1, 0, 1, 0, 1, 0, 1, 0, 1, 1, 1, 1, 1, 1, 1, 0, 0, 1, 1, 0,\n",
       "       0, 0, 1, 0, 0, 1, 1, 0, 1, 0, 1, 1, 0, 1, 1, 1, 1, 1, 1, 1, 0, 1,\n",
       "       1, 1, 1, 1, 1, 0, 0, 1, 1, 0, 1, 1, 1, 1, 0, 1, 1, 0, 0, 1, 1, 1,\n",
       "       0, 1, 1, 1, 1, 1, 1, 1, 0, 0, 1], dtype=int32)"
      ]
     },
     "execution_count": 26,
     "metadata": {},
     "output_type": "execute_result"
    }
   ],
   "source": [
    "predicted[0]"
   ]
  },
  {
   "cell_type": "code",
   "execution_count": 27,
   "metadata": {},
   "outputs": [],
   "source": [
    "from sklearn.metrics import confusion_matrix,f1_score"
   ]
  },
  {
   "cell_type": "code",
   "execution_count": 28,
   "metadata": {},
   "outputs": [
    {
     "data": {
      "text/plain": [
       "0.9297297297297297"
      ]
     },
     "execution_count": 28,
     "metadata": {},
     "output_type": "execute_result"
    }
   ],
   "source": [
    "f1_score(y_test[0],predicted[0])"
   ]
  },
  {
   "cell_type": "code",
   "execution_count": 29,
   "metadata": {},
   "outputs": [
    {
     "data": {
      "text/plain": [
       "array([[44,  5],\n",
       "       [ 8, 86]], dtype=int64)"
      ]
     },
     "execution_count": 29,
     "metadata": {},
     "output_type": "execute_result"
    }
   ],
   "source": [
    "confusion_matrix(predicted[0],y_test[0])"
   ]
  },
  {
   "cell_type": "code",
   "execution_count": null,
   "metadata": {},
   "outputs": [],
   "source": []
  }
 ],
 "metadata": {
  "kernelspec": {
   "display_name": "Python 3",
   "language": "python",
   "name": "python3"
  },
  "language_info": {
   "codemirror_mode": {
    "name": "ipython",
    "version": 3
   },
   "file_extension": ".py",
   "mimetype": "text/x-python",
   "name": "python",
   "nbconvert_exporter": "python",
   "pygments_lexer": "ipython3",
   "version": "3.8.3"
  }
 },
 "nbformat": 4,
 "nbformat_minor": 4
}
